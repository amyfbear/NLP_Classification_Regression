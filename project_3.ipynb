{
 "cells": [
  {
   "cell_type": "markdown",
   "metadata": {
    "toc": true
   },
   "source": [
    "<h1>Table of Contents<span class=\"tocSkip\"></span></h1>\n",
    "<div class=\"toc\"><ul class=\"toc-item\"><li><span><a href=\"#Project-3:-NLP-Binary-Classification-Model\" data-toc-modified-id=\"Project-3:-NLP-Binary-Classification-Model-1\"><span class=\"toc-item-num\">1&nbsp;&nbsp;</span>Project 3: NLP Binary Classification Model</a></span><ul class=\"toc-item\"><li><span><a href=\"#Problem-Statement\" data-toc-modified-id=\"Problem-Statement-1.1\"><span class=\"toc-item-num\">1.1&nbsp;&nbsp;</span>Problem Statement</a></span></li><li><span><a href=\"#Executive-Summary\" data-toc-modified-id=\"Executive-Summary-1.2\"><span class=\"toc-item-num\">1.2&nbsp;&nbsp;</span>Executive Summary</a></span></li><li><span><a href=\"#Loading-Libraries-&amp;-Data\" data-toc-modified-id=\"Loading-Libraries-&amp;-Data-1.3\"><span class=\"toc-item-num\">1.3&nbsp;&nbsp;</span>Loading Libraries &amp; Data</a></span></li><li><span><a href=\"#Preliminary-EDA\" data-toc-modified-id=\"Preliminary-EDA-1.4\"><span class=\"toc-item-num\">1.4&nbsp;&nbsp;</span>Preliminary EDA</a></span></li><li><span><a href=\"#Data-Cleaning\" data-toc-modified-id=\"Data-Cleaning-1.5\"><span class=\"toc-item-num\">1.5&nbsp;&nbsp;</span>Data Cleaning</a></span></li><li><span><a href=\"#Exploratory-Data-Analysis-(EDA)\" data-toc-modified-id=\"Exploratory-Data-Analysis-(EDA)-1.6\"><span class=\"toc-item-num\">1.6&nbsp;&nbsp;</span>Exploratory Data Analysis (EDA)</a></span><ul class=\"toc-item\"><li><span><a href=\"#CountVectorizer-&amp;-Graphing-for-Both-Subreddits:\" data-toc-modified-id=\"CountVectorizer-&amp;-Graphing-for-Both-Subreddits:-1.6.1\"><span class=\"toc-item-num\">1.6.1&nbsp;&nbsp;</span>CountVectorizer &amp; Graphing for Both Subreddits:</a></span></li><li><span><a href=\"#CountVectorizer-&amp;-Graphing-for-our-Biology-Class:\" data-toc-modified-id=\"CountVectorizer-&amp;-Graphing-for-our-Biology-Class:-1.6.2\"><span class=\"toc-item-num\">1.6.2&nbsp;&nbsp;</span>CountVectorizer &amp; Graphing for our Biology Class:</a></span></li><li><span><a href=\"#CountVectorizer-&amp;-Graphing-for-our-Microbiology-Class:\" data-toc-modified-id=\"CountVectorizer-&amp;-Graphing-for-our-Microbiology-Class:-1.6.3\"><span class=\"toc-item-num\">1.6.3&nbsp;&nbsp;</span>CountVectorizer &amp; Graphing for our Microbiology Class:</a></span></li></ul></li><li><span><a href=\"#Model-Preparation\" data-toc-modified-id=\"Model-Preparation-1.7\"><span class=\"toc-item-num\">1.7&nbsp;&nbsp;</span>Model Preparation</a></span></li><li><span><a href=\"#Modeling\" data-toc-modified-id=\"Modeling-1.8\"><span class=\"toc-item-num\">1.8&nbsp;&nbsp;</span>Modeling</a></span><ul class=\"toc-item\"><li><span><a href=\"#CountVectorizer-&amp;-Logistic-Regression-Model:\" data-toc-modified-id=\"CountVectorizer-&amp;-Logistic-Regression-Model:-1.8.1\"><span class=\"toc-item-num\">1.8.1&nbsp;&nbsp;</span>CountVectorizer &amp; Logistic Regression Model:</a></span></li><li><span><a href=\"#TfidfVectorizer-&amp;-Logistic-Regression:\" data-toc-modified-id=\"TfidfVectorizer-&amp;-Logistic-Regression:-1.8.2\"><span class=\"toc-item-num\">1.8.2&nbsp;&nbsp;</span>TfidfVectorizer &amp; Logistic Regression:</a></span></li><li><span><a href=\"#Multinomial-Naive-Bayes-&amp;-CountVectorizer-Model:\" data-toc-modified-id=\"Multinomial-Naive-Bayes-&amp;-CountVectorizer-Model:-1.8.3\"><span class=\"toc-item-num\">1.8.3&nbsp;&nbsp;</span>Multinomial Naive Bayes &amp; CountVectorizer Model:</a></span></li><li><span><a href=\"#Gaussian-Naive-Bayes-&amp;-TfidfVectorizer-Model:\" data-toc-modified-id=\"Gaussian-Naive-Bayes-&amp;-TfidfVectorizer-Model:-1.8.4\"><span class=\"toc-item-num\">1.8.4&nbsp;&nbsp;</span>Gaussian Naive Bayes &amp; TfidfVectorizer Model:</a></span></li></ul></li><li><span><a href=\"#Model-Selection\" data-toc-modified-id=\"Model-Selection-1.9\"><span class=\"toc-item-num\">1.9&nbsp;&nbsp;</span>Model Selection</a></span></li><li><span><a href=\"#Model-Evaluation\" data-toc-modified-id=\"Model-Evaluation-1.10\"><span class=\"toc-item-num\">1.10&nbsp;&nbsp;</span>Model Evaluation</a></span><ul class=\"toc-item\"><li><span><a href=\"#Confusion-Matrix-for-TfidfVectorizer-&amp;-Logistic-Regression:\" data-toc-modified-id=\"Confusion-Matrix-for-TfidfVectorizer-&amp;-Logistic-Regression:-1.10.1\"><span class=\"toc-item-num\">1.10.1&nbsp;&nbsp;</span>Confusion Matrix for TfidfVectorizer &amp; Logistic Regression:</a></span></li><li><span><a href=\"#ROC-Curve-for-TfidfVectorizer-&amp;-Logistic-Regression:\" data-toc-modified-id=\"ROC-Curve-for-TfidfVectorizer-&amp;-Logistic-Regression:-1.10.2\"><span class=\"toc-item-num\">1.10.2&nbsp;&nbsp;</span>ROC Curve for TfidfVectorizer &amp; Logistic Regression:</a></span></li></ul></li><li><span><a href=\"#Conclusion\" data-toc-modified-id=\"Conclusion-1.11\"><span class=\"toc-item-num\">1.11&nbsp;&nbsp;</span>Conclusion</a></span></li><li><span><a href=\"#Recommendations\" data-toc-modified-id=\"Recommendations-1.12\"><span class=\"toc-item-num\">1.12&nbsp;&nbsp;</span>Recommendations</a></span></li><li><span><a href=\"#References\" data-toc-modified-id=\"References-1.13\"><span class=\"toc-item-num\">1.13&nbsp;&nbsp;</span>References</a></span></li></ul></li></ul></div>"
   ]
  },
  {
   "cell_type": "markdown",
   "metadata": {},
   "source": [
    "# Project 3: NLP Binary Classification Model\n",
    "By: Amy Ontiveros-Bear"
   ]
  },
  {
   "cell_type": "markdown",
   "metadata": {},
   "source": [
    "## Problem Statement\n",
    "  I am moderator for r/Biology and r/ Microbiology, someone hacked my subreddits and combined them into one. I need to build a model ASAP that will help me differeniate between the subreddit posts. Once complete, I can begin to organize the mess that the hacker created! Luckily, I have some back up data from both subreddits that I can use to train my models with. Since this is a NLP binary classification problem, I will try out Logistic and Naive Bayes models with accuracy as my metric."
   ]
  },
  {
   "cell_type": "markdown",
   "metadata": {},
   "source": [
    "## Executive Summary\n",
    "\n",
    "I started out with two separate data frames one for each subreddit. I concatenated them then preceded to binarize the subreddit column according to their respective subreddit. r/Biology was mapped as 1 and r/ Microbiology was mapped as 0.Data cleaning was minimal because Count Vectorizer essentially does it for you. Exploratory data analysis was kicked off by utilizing Count Vectorizer on the combined DataFrame. I sorted out the top ten words and utilized this to base my stop word customization off of. Then did some masking to put the binary subreddits into their own data frames. I then sorted out the top words using Count Vectorizer as well and further customized my stop words. I gathered that since microbiology is a sub field of biology they would share a lot over cross over terminology. This proved accurate, they shared common terms but many of which were due the fact Reddit is a forum based community. They get a lot of people asking for help and/ or advice in these fields, which would explain the rest of the cross over words. They ended up sharing 70% of the same top ten words which was surprising to me. Another key finding was that cell and cells were under biology's top ten instead of micro. Which I intuitively thought would go to microbiology.\n",
    " \n",
    " \n",
    "Next up was selecting my X and Y variables. I chose the \"selftext\" column as my X because it allows for more data to be utilized, there are more words in self text than title. I picked my \"binary_class\" columns as my Y because it is binarized according to subreddit. I chose four models Tfidif Vectorizer & Logistic Regression, CountVectorizer & Logistic Regression, Multinomial Naive Bayes & CountVectorizer and finally the Gaussian Naive Bayes & Tfidf Vectorizer Model. I did a grid search over several iterations of parameters and ultimately input the parameters from \"best_params\" into my models. I compared my scores to the baseline model of .514 that would always default to predicting biology, they all performed at least .25 better than it. None of my models were over or under fit. The Highest performing model was Tfidf Vectorizer & Logistic Regression so I chose this one. After model selection I evaluated my model by graphing a confusion matrix and manually calculated the accuracy score of .80. My last evaluation was to graph  and interpret the ROC Curve. My AUROC was better than the baseline and the ROC curve was closer to one than the baseline, so it safe to say this is a decent model. I then tested out my model a couple times and it predicted accurately!!!"
   ]
  },
  {
   "cell_type": "markdown",
   "metadata": {},
   "source": [
    "## Loading Libraries & Data"
   ]
  },
  {
   "cell_type": "code",
   "execution_count": 1,
   "metadata": {},
   "outputs": [],
   "source": [
    "import pandas as pd\n",
    "import numpy as np\n",
    "\n",
    "from sklearn.model_selection import train_test_split, GridSearchCV\n",
    "from sklearn.pipeline import Pipeline\n",
    "from sklearn.linear_model import LogisticRegression\n",
    "from sklearn.feature_extraction.text import CountVectorizer, TfidfVectorizer\n",
    "from sklearn.feature_extraction import stop_words\n",
    "from sklearn.naive_bayes import MultinomialNB, GaussianNB\n",
    "from sklearn.metrics import roc_curve, auc, confusion_matrix\n",
    "\n",
    "from sklearn.model_selection import cross_val_score\n",
    "from sklearn.base import TransformerMixin\n",
    "\n",
    "from nltk.tokenize import RegexpTokenizer\n",
    "from nltk.stem import WordNetLemmatizer\n",
    "\n",
    "\n",
    "\n",
    "import matplotlib.pyplot as plt\n",
    "import seaborn as sns\n",
    "\n",
    "%config InlineBackend.figure_format = 'retina'\n",
    "%matplotlib inline\n",
    "\n",
    "import warnings \n",
    "warnings.filterwarnings(\"ignore\") "
   ]
  },
  {
   "cell_type": "code",
   "execution_count": 2,
   "metadata": {},
   "outputs": [],
   "source": [
    "bio = pd.read_csv('./data/subreddit_biology.csv', index_col = 0)"
   ]
  },
  {
   "cell_type": "code",
   "execution_count": 3,
   "metadata": {},
   "outputs": [],
   "source": [
    "micro = pd.read_csv('./data/subreddit_microbiology.csv', index_col = 0)"
   ]
  },
  {
   "cell_type": "markdown",
   "metadata": {},
   "source": [
    "## Preliminary EDA "
   ]
  },
  {
   "cell_type": "code",
   "execution_count": 4,
   "metadata": {},
   "outputs": [
    {
     "data": {
      "text/plain": [
       "(3405, 9)"
      ]
     },
     "execution_count": 4,
     "metadata": {},
     "output_type": "execute_result"
    }
   ],
   "source": [
    "bio.shape"
   ]
  },
  {
   "cell_type": "code",
   "execution_count": 5,
   "metadata": {},
   "outputs": [
    {
     "data": {
      "text/plain": [
       "(2983, 9)"
      ]
     },
     "execution_count": 5,
     "metadata": {},
     "output_type": "execute_result"
    }
   ],
   "source": [
    "micro.shape"
   ]
  },
  {
   "cell_type": "code",
   "execution_count": 6,
   "metadata": {},
   "outputs": [],
   "source": [
    "def intitial_eda_checks(df):\n",
    "    '''\n",
    "    Thanks to Danny for sharing this function!\n",
    "    take a dataframe\n",
    "    check if there is duplicates\n",
    "    check if there is nulls\n",
    "    '''\n",
    "    if len(df[df.duplicated(keep=False)]) > 0:\n",
    "        print(df[df.duplicated(keep=False)])\n",
    "        df.drop_duplicates(keep='first', inplace=True)\n",
    "        print('Warning! df has been mutated!')\n",
    "    else:\n",
    "        print('No duplicates found.')\n",
    "\n",
    "    if df.isnull().sum().sum() > 0:\n",
    "        mask_total = df.isnull().sum().sort_values(ascending=False) \n",
    "        total = mask_total[mask_total > 0]\n",
    "\n",
    "        mask_percent = df.isnull().mean().sort_values(ascending=False) \n",
    "        percent = mask_percent[mask_percent > 0] \n",
    "\n",
    "        missing_data = pd.concat([total, percent], axis=1, keys=['Total', 'Percent'])\n",
    "    \n",
    "        print(f'Total and Percentage of NaN:\\n {missing_data}')\n",
    "    else: \n",
    "        print('No NaN found.')"
   ]
  },
  {
   "cell_type": "code",
   "execution_count": 7,
   "metadata": {},
   "outputs": [
    {
     "name": "stdout",
     "output_type": "stream",
     "text": [
      "No duplicates found.\n",
      "Total and Percentage of NaN:\n",
      "           Total   Percent\n",
      "selftext    300  0.088106\n"
     ]
    }
   ],
   "source": [
    "intitial_eda_checks(bio)"
   ]
  },
  {
   "cell_type": "code",
   "execution_count": 8,
   "metadata": {},
   "outputs": [
    {
     "name": "stdout",
     "output_type": "stream",
     "text": [
      "No duplicates found.\n",
      "Total and Percentage of NaN:\n",
      "           Total   Percent\n",
      "selftext    108  0.036205\n"
     ]
    }
   ],
   "source": [
    "intitial_eda_checks(micro)"
   ]
  },
  {
   "cell_type": "markdown",
   "metadata": {},
   "source": [
    "- Dropping NaNs because there is so much data:"
   ]
  },
  {
   "cell_type": "code",
   "execution_count": 9,
   "metadata": {},
   "outputs": [],
   "source": [
    "bio.dropna(inplace=True)"
   ]
  },
  {
   "cell_type": "code",
   "execution_count": 10,
   "metadata": {},
   "outputs": [],
   "source": [
    "micro.dropna(inplace= True)"
   ]
  },
  {
   "cell_type": "markdown",
   "metadata": {},
   "source": [
    "- Making the Datasets somewhat even:"
   ]
  },
  {
   "cell_type": "code",
   "execution_count": 11,
   "metadata": {},
   "outputs": [
    {
     "data": {
      "text/plain": [
       "(2875, 9)"
      ]
     },
     "execution_count": 11,
     "metadata": {},
     "output_type": "execute_result"
    }
   ],
   "source": [
    "micro.shape"
   ]
  },
  {
   "cell_type": "code",
   "execution_count": 12,
   "metadata": {},
   "outputs": [
    {
     "data": {
      "text/plain": [
       "(3105, 9)"
      ]
     },
     "execution_count": 12,
     "metadata": {},
     "output_type": "execute_result"
    }
   ],
   "source": [
    "bio.shape"
   ]
  },
  {
   "cell_type": "code",
   "execution_count": 13,
   "metadata": {},
   "outputs": [],
   "source": [
    "bio = bio[:2872]"
   ]
  },
  {
   "cell_type": "code",
   "execution_count": 14,
   "metadata": {},
   "outputs": [
    {
     "data": {
      "text/plain": [
       "(2872, 9)"
      ]
     },
     "execution_count": 14,
     "metadata": {},
     "output_type": "execute_result"
    }
   ],
   "source": [
    "bio.shape"
   ]
  },
  {
   "cell_type": "markdown",
   "metadata": {},
   "source": [
    "## Data Cleaning"
   ]
  },
  {
   "cell_type": "code",
   "execution_count": 15,
   "metadata": {},
   "outputs": [
    {
     "data": {
      "text/html": [
       "<div>\n",
       "<style scoped>\n",
       "    .dataframe tbody tr th:only-of-type {\n",
       "        vertical-align: middle;\n",
       "    }\n",
       "\n",
       "    .dataframe tbody tr th {\n",
       "        vertical-align: top;\n",
       "    }\n",
       "\n",
       "    .dataframe thead th {\n",
       "        text-align: right;\n",
       "    }\n",
       "</style>\n",
       "<table border=\"1\" class=\"dataframe\">\n",
       "  <thead>\n",
       "    <tr style=\"text-align: right;\">\n",
       "      <th></th>\n",
       "      <th>title</th>\n",
       "      <th>selftext</th>\n",
       "      <th>subreddit</th>\n",
       "      <th>created_utc</th>\n",
       "      <th>author</th>\n",
       "      <th>num_comments</th>\n",
       "      <th>score</th>\n",
       "      <th>is_self</th>\n",
       "      <th>timestamp</th>\n",
       "    </tr>\n",
       "  </thead>\n",
       "  <tbody>\n",
       "    <tr>\n",
       "      <td>0</td>\n",
       "      <td>Paying $75 to a biology tutor to do homework</td>\n",
       "      <td>Need some assignments completed. Need like 8-9...</td>\n",
       "      <td>biology</td>\n",
       "      <td>1537143588</td>\n",
       "      <td>spuniflo</td>\n",
       "      <td>7</td>\n",
       "      <td>0</td>\n",
       "      <td>True</td>\n",
       "      <td>2018-09-16</td>\n",
       "    </tr>\n",
       "    <tr>\n",
       "      <td>1</td>\n",
       "      <td>what IS water potential?</td>\n",
       "      <td>I'm taking AP Biology, and we're doing a lot o...</td>\n",
       "      <td>biology</td>\n",
       "      <td>1537145024</td>\n",
       "      <td>Misiakia</td>\n",
       "      <td>1</td>\n",
       "      <td>1</td>\n",
       "      <td>True</td>\n",
       "      <td>2018-09-16</td>\n",
       "    </tr>\n",
       "    <tr>\n",
       "      <td>2</td>\n",
       "      <td>I need to build a phylogenetic tree!</td>\n",
       "      <td>Hello fellows, I'm an undergrad and I need to ...</td>\n",
       "      <td>biology</td>\n",
       "      <td>1537145169</td>\n",
       "      <td>Sarkani</td>\n",
       "      <td>2</td>\n",
       "      <td>1</td>\n",
       "      <td>True</td>\n",
       "      <td>2018-09-16</td>\n",
       "    </tr>\n",
       "    <tr>\n",
       "      <td>4</td>\n",
       "      <td>How do we extract a nervous system from a body...</td>\n",
       "      <td>How do we extract a nervous system such that t...</td>\n",
       "      <td>biology</td>\n",
       "      <td>1537150953</td>\n",
       "      <td>materialhigh</td>\n",
       "      <td>2</td>\n",
       "      <td>5</td>\n",
       "      <td>True</td>\n",
       "      <td>2018-09-16</td>\n",
       "    </tr>\n",
       "    <tr>\n",
       "      <td>5</td>\n",
       "      <td>Have a bachelors in biology and refuse to leav...</td>\n",
       "      <td>So. I graduated last year (2017) from a NY Sta...</td>\n",
       "      <td>biology</td>\n",
       "      <td>1537151319</td>\n",
       "      <td>baby_monkey1</td>\n",
       "      <td>30</td>\n",
       "      <td>22</td>\n",
       "      <td>True</td>\n",
       "      <td>2018-09-16</td>\n",
       "    </tr>\n",
       "    <tr>\n",
       "      <td>...</td>\n",
       "      <td>...</td>\n",
       "      <td>...</td>\n",
       "      <td>...</td>\n",
       "      <td>...</td>\n",
       "      <td>...</td>\n",
       "      <td>...</td>\n",
       "      <td>...</td>\n",
       "      <td>...</td>\n",
       "      <td>...</td>\n",
       "    </tr>\n",
       "    <tr>\n",
       "      <td>13</td>\n",
       "      <td>New to microbio and looking for some advice</td>\n",
       "      <td>Hey /r/microbiology,\\n\\nI'm currently very int...</td>\n",
       "      <td>microbiology</td>\n",
       "      <td>1317236444</td>\n",
       "      <td>[deleted]</td>\n",
       "      <td>8</td>\n",
       "      <td>1</td>\n",
       "      <td>True</td>\n",
       "      <td>2011-09-28</td>\n",
       "    </tr>\n",
       "    <tr>\n",
       "      <td>18</td>\n",
       "      <td>Synthetically-Genetically encoded programs. We...</td>\n",
       "      <td>I came across this article a little while ago ...</td>\n",
       "      <td>microbiology</td>\n",
       "      <td>1319698961</td>\n",
       "      <td>Howser</td>\n",
       "      <td>3</td>\n",
       "      <td>2</td>\n",
       "      <td>True</td>\n",
       "      <td>2011-10-27</td>\n",
       "    </tr>\n",
       "    <tr>\n",
       "      <td>19</td>\n",
       "      <td>How do I check if Primers will work??</td>\n",
       "      <td>Hello \\n\\nI have a DNA extraction product that...</td>\n",
       "      <td>microbiology</td>\n",
       "      <td>1320358233</td>\n",
       "      <td>miss_micropipette</td>\n",
       "      <td>13</td>\n",
       "      <td>7</td>\n",
       "      <td>True</td>\n",
       "      <td>2011-11-03</td>\n",
       "    </tr>\n",
       "    <tr>\n",
       "      <td>21</td>\n",
       "      <td>Question regarding Viability of EDTA blood.</td>\n",
       "      <td>Hi.  I've hit a bit of a stump in the lab in r...</td>\n",
       "      <td>microbiology</td>\n",
       "      <td>1320472008</td>\n",
       "      <td>bacteriomicon</td>\n",
       "      <td>1</td>\n",
       "      <td>3</td>\n",
       "      <td>True</td>\n",
       "      <td>2011-11-05</td>\n",
       "    </tr>\n",
       "    <tr>\n",
       "      <td>22</td>\n",
       "      <td>Is there a program to determine what specimen ...</td>\n",
       "      <td>I'm working on a microbiology assignment where...</td>\n",
       "      <td>microbiology</td>\n",
       "      <td>1320774655</td>\n",
       "      <td>SourAbyss</td>\n",
       "      <td>0</td>\n",
       "      <td>1</td>\n",
       "      <td>True</td>\n",
       "      <td>2011-11-08</td>\n",
       "    </tr>\n",
       "  </tbody>\n",
       "</table>\n",
       "<p>5747 rows × 9 columns</p>\n",
       "</div>"
      ],
      "text/plain": [
       "                                                title  \\\n",
       "0        Paying $75 to a biology tutor to do homework   \n",
       "1                            what IS water potential?   \n",
       "2                I need to build a phylogenetic tree!   \n",
       "4   How do we extract a nervous system from a body...   \n",
       "5   Have a bachelors in biology and refuse to leav...   \n",
       "..                                                ...   \n",
       "13        New to microbio and looking for some advice   \n",
       "18  Synthetically-Genetically encoded programs. We...   \n",
       "19              How do I check if Primers will work??   \n",
       "21        Question regarding Viability of EDTA blood.   \n",
       "22  Is there a program to determine what specimen ...   \n",
       "\n",
       "                                             selftext     subreddit  \\\n",
       "0   Need some assignments completed. Need like 8-9...       biology   \n",
       "1   I'm taking AP Biology, and we're doing a lot o...       biology   \n",
       "2   Hello fellows, I'm an undergrad and I need to ...       biology   \n",
       "4   How do we extract a nervous system such that t...       biology   \n",
       "5   So. I graduated last year (2017) from a NY Sta...       biology   \n",
       "..                                                ...           ...   \n",
       "13  Hey /r/microbiology,\\n\\nI'm currently very int...  microbiology   \n",
       "18  I came across this article a little while ago ...  microbiology   \n",
       "19  Hello \\n\\nI have a DNA extraction product that...  microbiology   \n",
       "21  Hi.  I've hit a bit of a stump in the lab in r...  microbiology   \n",
       "22  I'm working on a microbiology assignment where...  microbiology   \n",
       "\n",
       "    created_utc             author  num_comments  score  is_self   timestamp  \n",
       "0    1537143588           spuniflo             7      0     True  2018-09-16  \n",
       "1    1537145024           Misiakia             1      1     True  2018-09-16  \n",
       "2    1537145169            Sarkani             2      1     True  2018-09-16  \n",
       "4    1537150953       materialhigh             2      5     True  2018-09-16  \n",
       "5    1537151319       baby_monkey1            30     22     True  2018-09-16  \n",
       "..          ...                ...           ...    ...      ...         ...  \n",
       "13   1317236444          [deleted]             8      1     True  2011-09-28  \n",
       "18   1319698961             Howser             3      2     True  2011-10-27  \n",
       "19   1320358233  miss_micropipette            13      7     True  2011-11-03  \n",
       "21   1320472008      bacteriomicon             1      3     True  2011-11-05  \n",
       "22   1320774655          SourAbyss             0      1     True  2011-11-08  \n",
       "\n",
       "[5747 rows x 9 columns]"
      ]
     },
     "execution_count": 15,
     "metadata": {},
     "output_type": "execute_result"
    }
   ],
   "source": [
    "combined_subreddits = pd.concat([bio, micro])\n",
    "combined_subreddits"
   ]
  },
  {
   "cell_type": "code",
   "execution_count": 16,
   "metadata": {},
   "outputs": [],
   "source": [
    "combined_subreddits.reset_index(drop = True, inplace = True)"
   ]
  },
  {
   "cell_type": "code",
   "execution_count": 17,
   "metadata": {},
   "outputs": [
    {
     "data": {
      "text/plain": [
       "Index(['title', 'selftext', 'subreddit', 'created_utc', 'author',\n",
       "       'num_comments', 'score', 'is_self', 'timestamp'],\n",
       "      dtype='object')"
      ]
     },
     "execution_count": 17,
     "metadata": {},
     "output_type": "execute_result"
    }
   ],
   "source": [
    "combined_subreddits.columns"
   ]
  },
  {
   "cell_type": "code",
   "execution_count": 18,
   "metadata": {},
   "outputs": [
    {
     "data": {
      "text/plain": [
       "(5747, 9)"
      ]
     },
     "execution_count": 18,
     "metadata": {},
     "output_type": "execute_result"
    }
   ],
   "source": [
    "combined_subreddits.shape"
   ]
  },
  {
   "cell_type": "markdown",
   "metadata": {},
   "source": [
    "- Binarizing the subreddits and making it a new column:"
   ]
  },
  {
   "cell_type": "code",
   "execution_count": 19,
   "metadata": {},
   "outputs": [],
   "source": [
    "combined_subreddits['binary_class'] = combined_subreddits['subreddit'].map({'microbiology':0,'biology':1})"
   ]
  },
  {
   "cell_type": "code",
   "execution_count": 20,
   "metadata": {},
   "outputs": [
    {
     "data": {
      "text/plain": [
       "array([1, 0])"
      ]
     },
     "execution_count": 20,
     "metadata": {},
     "output_type": "execute_result"
    }
   ],
   "source": [
    "combined_subreddits['binary_class'].unique()"
   ]
  },
  {
   "cell_type": "code",
   "execution_count": 21,
   "metadata": {},
   "outputs": [
    {
     "data": {
      "text/plain": [
       "Index(['title', 'selftext', 'subreddit', 'created_utc', 'author',\n",
       "       'num_comments', 'score', 'is_self', 'timestamp', 'binary_class'],\n",
       "      dtype='object')"
      ]
     },
     "execution_count": 21,
     "metadata": {},
     "output_type": "execute_result"
    }
   ],
   "source": [
    "combined_subreddits.columns"
   ]
  },
  {
   "cell_type": "markdown",
   "metadata": {},
   "source": [
    "**Dropping rows with a selftext of less 10 words:**\n",
    "- This will get rid of posts that were removed or deleted."
   ]
  },
  {
   "cell_type": "code",
   "execution_count": 22,
   "metadata": {},
   "outputs": [],
   "source": [
    "rows_to_drop = [post for post in combined_subreddits['selftext'] if len(post) < 10]"
   ]
  },
  {
   "cell_type": "code",
   "execution_count": 23,
   "metadata": {},
   "outputs": [],
   "source": [
    "combined_subreddits = combined_subreddits[~combined_subreddits['selftext'].isin(rows_to_drop)]"
   ]
  },
  {
   "cell_type": "markdown",
   "metadata": {},
   "source": [
    "## Exploratory Data Analysis (EDA)"
   ]
  },
  {
   "cell_type": "code",
   "execution_count": 24,
   "metadata": {},
   "outputs": [
    {
     "name": "stdout",
     "output_type": "stream",
     "text": [
      "<class 'pandas.core.frame.DataFrame'>\n",
      "Int64Index: 4945 entries, 0 to 5746\n",
      "Data columns (total 10 columns):\n",
      "title           4945 non-null object\n",
      "selftext        4945 non-null object\n",
      "subreddit       4945 non-null object\n",
      "created_utc     4945 non-null int64\n",
      "author          4945 non-null object\n",
      "num_comments    4945 non-null int64\n",
      "score           4945 non-null int64\n",
      "is_self         4945 non-null bool\n",
      "timestamp       4945 non-null object\n",
      "binary_class    4945 non-null int64\n",
      "dtypes: bool(1), int64(4), object(5)\n",
      "memory usage: 391.2+ KB\n"
     ]
    }
   ],
   "source": [
    "combined_subreddits.info()"
   ]
  },
  {
   "cell_type": "markdown",
   "metadata": {},
   "source": [
    "- The data types look correct, no need to modify them."
   ]
  },
  {
   "cell_type": "markdown",
   "metadata": {},
   "source": [
    "**Customizing Stop Words:**\n",
    "- I sorted the word count for both subreddits using CountVectorizer in order to cutomize the stop words.\n",
    "- That way when I grab the top ten words from each subreddit the identifying words will float to the top."
   ]
  },
  {
   "cell_type": "code",
   "execution_count": 25,
   "metadata": {},
   "outputs": [],
   "source": [
    "custom_stopwords= ['also','www','anyone','other','only','find','very','here','these','up','want','com','now',\n",
    "                  'need','their','looking','using','should','http','from','out','has', 'your','been','into','something','because','really',\n",
    "                   'thanks','get','ve','there','know','just','all','to','will','could','one','use',\n",
    "                   'by','working','more','they','like','me','my','our', 'or','the','that','this','have','some', 'good',\n",
    "                   'be', 'but', 'if', 'in','it', 'of','as', 'not','so','any','help','question', 'after',\n",
    "                   'for','and','where', 'what','would','when','which','then', 'think', 'does','them','is','on','how','with',\n",
    "                   'we', 'at','am','an','was','do','can','you','are','about','don','had','no','much']"
   ]
  },
  {
   "cell_type": "markdown",
   "metadata": {},
   "source": [
    "### CountVectorizer & Graphing for Both Subreddits:"
   ]
  },
  {
   "cell_type": "code",
   "execution_count": 26,
   "metadata": {},
   "outputs": [],
   "source": [
    "cvec = CountVectorizer(lowercase = True,\n",
    "                       stop_words = custom_stopwords,\n",
    "                                         \n",
    "                       ngram_range = (1,2)) \n",
    "\n",
    "X_text_cv = cvec.fit_transform(combined_subreddits[\"selftext\"])"
   ]
  },
  {
   "cell_type": "code",
   "execution_count": 27,
   "metadata": {},
   "outputs": [],
   "source": [
    "X_text_cv = pd.DataFrame(X_text_cv.toarray(),\n",
    "                       columns = cvec.get_feature_names())\n"
   ]
  },
  {
   "cell_type": "markdown",
   "metadata": {},
   "source": [
    "- **Sorted the words acorrding to count.**"
   ]
  },
  {
   "cell_type": "code",
   "execution_count": 28,
   "metadata": {},
   "outputs": [],
   "source": [
    "sorted_X = X_text_cv.sum().sort_values(ascending=False).head(10)"
   ]
  },
  {
   "cell_type": "code",
   "execution_count": 29,
   "metadata": {},
   "outputs": [
    {
     "data": {
      "text/plain": [
       "biology         1423\n",
       "lab             1225\n",
       "research        1159\n",
       "microbiology    1089\n",
       "work             942\n",
       "bacteria         879\n",
       "time             841\n",
       "school           802\n",
       "job              652\n",
       "year             651\n",
       "dtype: int64"
      ]
     },
     "execution_count": 29,
     "metadata": {},
     "output_type": "execute_result"
    }
   ],
   "source": [
    "sorted_X"
   ]
  },
  {
   "cell_type": "markdown",
   "metadata": {},
   "source": [
    "**Visualing Top Ten Words in Both Subreddits:**\n",
    "- Below are the top ten words occuring in both subreddits, since Microbiology is a sub field of biology I figured there would be some cross over terminology. \n",
    "- As you can see below they do share some common themes since they are in a similar field such as: lab,research, school, time, year, work and job."
   ]
  },
  {
   "cell_type": "code",
   "execution_count": 30,
   "metadata": {},
   "outputs": [
    {
     "data": {
      "text/plain": [
       "Text(0.5, 1.0, 'Top Ten Words in Both Subreddits')"
      ]
     },
     "execution_count": 30,
     "metadata": {},
     "output_type": "execute_result"
    },
    {
     "data": {
      "image/png": "[encoded data removed]",
      "text/plain": [
       "<Figure size 432x288 with 1 Axes>"
      ]
     },
     "metadata": {
      "image/png": {
       "height": 263,
       "width": 421
      },
      "needs_background": "light"
     },
     "output_type": "display_data"
    }
   ],
   "source": [
    "fig, ax = plt.subplots()\n",
    "sorted_X.plot(kind = \"barh\")\n",
    "ax.set_title('Top Ten Words in Both Subreddits')"
   ]
  },
  {
   "cell_type": "markdown",
   "metadata": {},
   "source": [
    "### CountVectorizer & Graphing for our Biology Class:\n"
   ]
  },
  {
   "cell_type": "code",
   "execution_count": 31,
   "metadata": {},
   "outputs": [],
   "source": [
    "bio_mask = combined_subreddits['binary_class'] == 1"
   ]
  },
  {
   "cell_type": "code",
   "execution_count": 32,
   "metadata": {},
   "outputs": [],
   "source": [
    "cvec = CountVectorizer(lowercase = True,\n",
    "                       stop_words = custom_stopwords,\n",
    "                                          \n",
    "                       ngram_range = (1,2)) \n",
    "\n",
    "X_text_bio = cvec.fit_transform(combined_subreddits[bio_mask]['selftext'])"
   ]
  },
  {
   "cell_type": "code",
   "execution_count": 33,
   "metadata": {},
   "outputs": [],
   "source": [
    "X_text_bio_cv = pd.DataFrame(X_text_bio.toarray(),\n",
    "                       columns = cvec.get_feature_names())\n"
   ]
  },
  {
   "cell_type": "markdown",
   "metadata": {},
   "source": [
    "- **Sorted the words acorrding to count.**"
   ]
  },
  {
   "cell_type": "code",
   "execution_count": 34,
   "metadata": {},
   "outputs": [],
   "source": [
    "bio_top = X_text_bio_cv.sum().sort_values(ascending = False).head(10)"
   ]
  },
  {
   "cell_type": "code",
   "execution_count": 35,
   "metadata": {},
   "outputs": [
    {
     "data": {
      "text/plain": [
       "biology     1227\n",
       "research     609\n",
       "lab          472\n",
       "work         445\n",
       "school       438\n",
       "time         423\n",
       "cell         369\n",
       "job          358\n",
       "cells        354\n",
       "year         336\n",
       "dtype: int64"
      ]
     },
     "execution_count": 35,
     "metadata": {},
     "output_type": "execute_result"
    }
   ],
   "source": [
    "bio_top"
   ]
  },
  {
   "cell_type": "markdown",
   "metadata": {},
   "source": [
    "**Visualing Top Ten Words in the Biology Subreddit:**\n",
    "- It is very interesting that biology took the lead for cell and cells, I would have expected this trophy to go to micro. This may make it tricky for my model once I get to it.\n",
    "- As expected they share common cross over terminology, and biology is the key indicator word for this subreddit's corpus."
   ]
  },
  {
   "cell_type": "code",
   "execution_count": 36,
   "metadata": {},
   "outputs": [
    {
     "data": {
      "text/plain": [
       "Text(0.5, 1.0, 'Top Ten Words in the Biology Subreddit')"
      ]
     },
     "execution_count": 36,
     "metadata": {},
     "output_type": "execute_result"
    },
    {
     "data": {
      "image/png": "[encoded data removed]",
      "text/plain": [
       "<Figure size 432x288 with 1 Axes>"
      ]
     },
     "metadata": {
      "image/png": {
       "height": 263,
       "width": 400
      },
      "needs_background": "light"
     },
     "output_type": "display_data"
    }
   ],
   "source": [
    "fig, ax = plt.subplots()\n",
    "bio_top.plot(kind = 'barh')\n",
    "ax.set_title('Top Ten Words in the Biology Subreddit')"
   ]
  },
  {
   "cell_type": "markdown",
   "metadata": {},
   "source": [
    "### CountVectorizer & Graphing for our Microbiology Class:"
   ]
  },
  {
   "cell_type": "code",
   "execution_count": 37,
   "metadata": {},
   "outputs": [],
   "source": [
    "micro_mask = combined_subreddits['binary_class'] == 0"
   ]
  },
  {
   "cell_type": "code",
   "execution_count": 38,
   "metadata": {},
   "outputs": [],
   "source": [
    "cvec = CountVectorizer(lowercase = True,\n",
    "                       stop_words = custom_stopwords,\n",
    "                                           \n",
    "                       ngram_range = (1,2)) \n",
    "\n",
    "X_text_micro = cvec.fit_transform(combined_subreddits[micro_mask]['selftext'])"
   ]
  },
  {
   "cell_type": "code",
   "execution_count": 39,
   "metadata": {},
   "outputs": [],
   "source": [
    "X_text_micro_cv = pd.DataFrame(X_text_micro.toarray(),\n",
    "                       columns = cvec.get_feature_names())\n"
   ]
  },
  {
   "cell_type": "markdown",
   "metadata": {},
   "source": [
    "- **Sorted the words acorrding to count.**"
   ]
  },
  {
   "cell_type": "code",
   "execution_count": 40,
   "metadata": {},
   "outputs": [],
   "source": [
    "micro_top = X_text_micro_cv.sum().sort_values(ascending = False).head(10)"
   ]
  },
  {
   "cell_type": "code",
   "execution_count": 41,
   "metadata": {},
   "outputs": [
    {
     "data": {
      "text/plain": [
       "microbiology    1009\n",
       "bacteria         755\n",
       "lab              753\n",
       "research         550\n",
       "work             497\n",
       "time             418\n",
       "school           364\n",
       "experience       345\n",
       "year             315\n",
       "job              294\n",
       "dtype: int64"
      ]
     },
     "execution_count": 41,
     "metadata": {},
     "output_type": "execute_result"
    }
   ],
   "source": [
    "micro_top"
   ]
  },
  {
   "cell_type": "markdown",
   "metadata": {},
   "source": [
    "**Visualing Top Ten Words in the Mircobiology Subreddit:**\n",
    "-  As expected they share 70% crossover terminology, since this is a forum we do get alot of people asking for help and/ or advice in these fields, so this observation is sound. \n",
    "\n",
    "-  I am surprised that bacteria is the only field specific word that populated in the top ten.\n",
    "- Microbiology is the key indicator word for this subreddit's corpus."
   ]
  },
  {
   "cell_type": "code",
   "execution_count": 42,
   "metadata": {},
   "outputs": [
    {
     "data": {
      "text/plain": [
       "Text(0.5, 1.0, 'Top Ten Words in the Microbiology Subreddit')"
      ]
     },
     "execution_count": 42,
     "metadata": {},
     "output_type": "execute_result"
    },
    {
     "data": {
      "image/png": "[encoded data removed]",
      "text/plain": [
       "<Figure size 432x288 with 1 Axes>"
      ]
     },
     "metadata": {
      "image/png": {
       "height": 263,
       "width": 421
      },
      "needs_background": "light"
     },
     "output_type": "display_data"
    }
   ],
   "source": [
    "fig, ax = plt.subplots()\n",
    "micro_top.plot(kind = 'barh')\n",
    "ax.set_title('Top Ten Words in the Microbiology Subreddit')"
   ]
  },
  {
   "cell_type": "markdown",
   "metadata": {},
   "source": [
    "- I am confident that I have a substanial amount of clean data to solve my problem, now I just need to model it."
   ]
  },
  {
   "cell_type": "markdown",
   "metadata": {},
   "source": [
    "## Model Preparation\n",
    "- The self text is set for X because it allows for more data to be utilzed, there are more words in self text then title.\n",
    "- The binary Class variable is chosen for y because it is binarized according to subreddit."
   ]
  },
  {
   "cell_type": "code",
   "execution_count": 43,
   "metadata": {},
   "outputs": [],
   "source": [
    "X = combined_subreddits['selftext']\n",
    "y = combined_subreddits['binary_class']\n",
    "X_train, X_test, y_train, y_test = train_test_split(X, y, random_state = 42, test_size = 0.3, stratify = y)"
   ]
  },
  {
   "cell_type": "markdown",
   "metadata": {},
   "source": [
    "## Modeling\n",
    "- I am utilzing accuracy as my metric and my parameters were chosen based on the \"best params\" feature for all my models. "
   ]
  },
  {
   "cell_type": "markdown",
   "metadata": {},
   "source": [
    "### CountVectorizer & Logistic Regression Model:\n",
    " - CV counts the number of times the word occurs in the corpus. The classifier was chosen because this is a binary classificaition problem. Logistic regression has built in regularization which helps out quite a bit, my model below is utilzing Ridge. It's scores are also easy to interpet when comparing to the baseline score."
   ]
  },
  {
   "cell_type": "code",
   "execution_count": 44,
   "metadata": {},
   "outputs": [],
   "source": [
    "pipe = Pipeline(steps = [('vectorizer', CountVectorizer()),     \n",
    "                         ('model', LogisticRegression())       \n",
    "                        ])    \n",
    "\n",
    "\n",
    "hyperparams = {'vectorizer__ngram_range': [(1,2)],\n",
    "               'vectorizer__stop_words': ['english'],   \n",
    "               'model__penalty': ['l2'],\n",
    "               'model__C': [0.1]\n",
    "               \n",
    "              }\n",
    "\n",
    "\n",
    "gs_cv = GridSearchCV(pipe, \n",
    "                 param_grid=hyperparams,\n",
    "                 cv = 3,\n",
    "                 scoring = 'accuracy')\n",
    "results_cv = gs_cv.fit(X_train, y_train) "
   ]
  },
  {
   "cell_type": "markdown",
   "metadata": {},
   "source": [
    "**Scoring the Model:**"
   ]
  },
  {
   "cell_type": "code",
   "execution_count": 45,
   "metadata": {},
   "outputs": [
    {
     "name": "stdout",
     "output_type": "stream",
     "text": [
      "Best TRAIN accuracy: 0.7899\n",
      "Best TEST set accuracy: 0.7803\n"
     ]
    }
   ],
   "source": [
    "# Get score\n",
    "train_score = results_cv.best_score_\n",
    "print('Best TRAIN accuracy: {:.4f}'.format(train_score))\n",
    "test_score = results_cv.score(X_test, y_test)\n",
    "print('Best TEST set accuracy: {:.4f}'.format(test_score))"
   ]
  },
  {
   "cell_type": "code",
   "execution_count": 46,
   "metadata": {},
   "outputs": [
    {
     "data": {
      "text/plain": [
       "0.7896805101900424"
      ]
     },
     "execution_count": 46,
     "metadata": {},
     "output_type": "execute_result"
    }
   ],
   "source": [
    "cross_val_score(results_cv.best_estimator_, X,y).mean()"
   ]
  },
  {
   "cell_type": "markdown",
   "metadata": {},
   "source": [
    "**Good to see that all of my my scores are all about the same which means that the scores  can be trusted and that the model is not overfit.**"
   ]
  },
  {
   "cell_type": "markdown",
   "metadata": {},
   "source": [
    "### TfidfVectorizer & Logistic Regression:\n",
    " -  I picked this combo because Tfidf increases the word's value proportionally to count, but is offset by the frequency of the word in the corpus. This allows you to pick up on the unique identifier words. The classifier was picked becasue this is a binary classificaition problem and it makes the model's scores easily interpeted when comparing to the baseline. Logistic regression has built in regularization which helps out quite a bit, my model below is utilzing Ridge.\n"
   ]
  },
  {
   "cell_type": "code",
   "execution_count": 47,
   "metadata": {},
   "outputs": [],
   "source": [
    "pipe = Pipeline(steps = [('vectorizer', TfidfVectorizer()),     \n",
    "                         ('model', LogisticRegression())    \n",
    "                        ])    \n",
    "\n",
    "\n",
    "hyperparams = {'vectorizer__ngram_range': [(1,2)],\n",
    "               'vectorizer__stop_words': [custom_stopwords],   \n",
    "                                                        \n",
    "                                                        \n",
    "               'model__penalty': ['l2'],\n",
    "               'model__C': [10]\n",
    "               \n",
    "              }\n",
    "\n",
    "gs_tfidf = GridSearchCV(pipe, \n",
    "                 param_grid=hyperparams,\n",
    "                 cv = 3,\n",
    "                 scoring = 'accuracy')\n",
    "results_tfidf = gs_tfidf.fit(X_train, y_train)"
   ]
  },
  {
   "cell_type": "markdown",
   "metadata": {},
   "source": [
    "**Scoring the Model:**"
   ]
  },
  {
   "cell_type": "code",
   "execution_count": 48,
   "metadata": {},
   "outputs": [
    {
     "name": "stdout",
     "output_type": "stream",
     "text": [
      "Best TRAIN accuracy: 0.8003\n",
      "Best TEST set accuracy: 0.7898\n"
     ]
    }
   ],
   "source": [
    "train_score = results_tfidf.best_score_\n",
    "print('Best TRAIN accuracy: {:.4f}'.format(train_score))\n",
    "test_score = results_tfidf.score(X_test, y_test)\n",
    "print('Best TEST set accuracy: {:.4f}'.format(test_score))"
   ]
  },
  {
   "cell_type": "code",
   "execution_count": 49,
   "metadata": {},
   "outputs": [
    {
     "data": {
      "text/plain": [
       "0.801407733143145"
      ]
     },
     "execution_count": 49,
     "metadata": {},
     "output_type": "execute_result"
    }
   ],
   "source": [
    "cross_val_score(results_tfidf.best_estimator_, X,y).mean()"
   ]
  },
  {
   "cell_type": "markdown",
   "metadata": {},
   "source": [
    "**My test accuracy score is off by .2 which is not that much. I believe that they are still trustworthy and that the model is not overfit.**"
   ]
  },
  {
   "cell_type": "markdown",
   "metadata": {},
   "source": [
    "### Multinomial Naive Bayes & CountVectorizer Model:\n",
    " - I chose this model because it is a discrete X binary classification problem and Naive Bayes is a probabalistic classifier for this data type."
   ]
  },
  {
   "cell_type": "code",
   "execution_count": 50,
   "metadata": {},
   "outputs": [],
   "source": [
    "pipe_mnb = Pipeline(steps=[\n",
    "    ('cvec', CountVectorizer(stop_words= \"english\")), \n",
    "    ('mnb', MultinomialNB())\n",
    "])\n",
    "\n",
    "pipe_params_mnb ={\n",
    "    'cvec__max_features': [1000],\n",
    "    'cvec__ngram_range': [(1, 1)]\n",
    "    \n",
    "}\n",
    "\n",
    "gs_mnb = GridSearchCV(pipe_mnb, \n",
    "                 pipe_params_mnb, \n",
    "                 cv=5,\n",
    "                 scoring='accuracy')\n",
    "\n",
    "results_mnb = gs_mnb.fit(X_train, y_train)"
   ]
  },
  {
   "cell_type": "markdown",
   "metadata": {},
   "source": [
    "**Scoring the Model**"
   ]
  },
  {
   "cell_type": "code",
   "execution_count": 51,
   "metadata": {},
   "outputs": [
    {
     "name": "stdout",
     "output_type": "stream",
     "text": [
      "Best TRAIN accuracy: 0.7709\n",
      "Best TEST set accuracy: 0.7588\n"
     ]
    }
   ],
   "source": [
    "# Get score\n",
    "train_score = results_mnb.best_score_\n",
    "print('Best TRAIN accuracy: {:.4f}'.format(train_score))\n",
    "test_score = results_mnb.score(X_test, y_test)\n",
    "print('Best TEST set accuracy: {:.4f}'.format(test_score))"
   ]
  },
  {
   "cell_type": "code",
   "execution_count": 52,
   "metadata": {},
   "outputs": [
    {
     "data": {
      "text/plain": [
       "0.7694549473968695"
      ]
     },
     "execution_count": 52,
     "metadata": {},
     "output_type": "execute_result"
    }
   ],
   "source": [
    "cross_val_score(results_mnb.best_estimator_, X,y).mean()"
   ]
  },
  {
   "cell_type": "markdown",
   "metadata": {},
   "source": [
    "**My scores are off by .1 or .2 so they are still trust worthy but not as good as my previous ones. The model is not overfit.**"
   ]
  },
  {
   "cell_type": "markdown",
   "metadata": {},
   "source": [
    "### Gaussian Naive Bayes & TfidfVectorizer Model:\n",
    "- I chose this model because it is a continous X binary classification problem and Gaussian Naive Bayes is a probabalistic classifier for this data type."
   ]
  },
  {
   "cell_type": "code",
   "execution_count": 53,
   "metadata": {},
   "outputs": [],
   "source": [
    "class DenseTransformer(TransformerMixin):\n",
    "\n",
    "    def fit(self, X, y=None, **fit_params):\n",
    "        return self\n",
    "\n",
    "    def transform(self, X, y=None, **fit_params):\n",
    "        return X.todense()"
   ]
  },
  {
   "cell_type": "code",
   "execution_count": 54,
   "metadata": {},
   "outputs": [],
   "source": [
    "pipe_gnb = Pipeline([('tfidf', TfidfVectorizer()), ('to_dense', DenseTransformer()),('gnb', GaussianNB())])\n",
    "\n",
    "gnb_params = {'tfidf__ngram_range': [(1,1)],\n",
    "                'tfidf__stop_words': ['english'],\n",
    "                'tfidf__max_features': [1000]}\n",
    "\n",
    "gs_gnb = GridSearchCV(pipe_gnb, param_grid = gnb_params, cv = 3, scoring = 'accuracy')\n",
    "\n",
    "results_gnb = gs_gnb.fit(X_train, y_train)"
   ]
  },
  {
   "cell_type": "markdown",
   "metadata": {},
   "source": [
    "**Scoring the Model:**"
   ]
  },
  {
   "cell_type": "code",
   "execution_count": 55,
   "metadata": {},
   "outputs": [
    {
     "name": "stdout",
     "output_type": "stream",
     "text": [
      "Best TRAIN accuracy: 0.7137\n",
      "Best TEST set accuracy: 0.7075\n"
     ]
    }
   ],
   "source": [
    "train_score = results_gnb.best_score_\n",
    "print('Best TRAIN accuracy: {:.4f}'.format(train_score))\n",
    "test_score = results_gnb.score(X_test, y_test)\n",
    "print('Best TEST set accuracy: {:.4f}'.format(test_score))"
   ]
  },
  {
   "cell_type": "code",
   "execution_count": 56,
   "metadata": {},
   "outputs": [
    {
     "data": {
      "text/plain": [
       "0.7073752879490418"
      ]
     },
     "execution_count": 56,
     "metadata": {},
     "output_type": "execute_result"
    }
   ],
   "source": [
    "cross_val_score(results_gnb.best_estimator_, X,y).mean()"
   ]
  },
  {
   "cell_type": "markdown",
   "metadata": {},
   "source": [
    "**My training score is  off by .1, however my scores are still trustworthy just not good as my previous ones. The model is not overfit.**"
   ]
  },
  {
   "cell_type": "markdown",
   "metadata": {},
   "source": [
    "## Model Selection\n",
    "- **All of my models performed at least 30% better then the baseline. The difference in scoring was not that much. I chose to go with TfidfVectorizer with Logistic Regression because it gave me the best accuracy scores overall.**\n"
   ]
  },
  {
   "cell_type": "markdown",
   "metadata": {},
   "source": [
    "**Baseline Model:**\n",
    "\n",
    "- The baseline model for logistic regression is the majority class, in which case the model would always just pick that class.\n",
    "- Our majority class here is biology at .514 ."
   ]
  },
  {
   "cell_type": "code",
   "execution_count": 57,
   "metadata": {},
   "outputs": [],
   "source": [
    "baseline_model = combined_subreddits['binary_class'].value_counts(normalize= True)"
   ]
  },
  {
   "cell_type": "code",
   "execution_count": 58,
   "metadata": {},
   "outputs": [
    {
     "data": {
      "text/plain": [
       "1    0.514257\n",
       "0    0.485743\n",
       "Name: binary_class, dtype: float64"
      ]
     },
     "execution_count": 58,
     "metadata": {},
     "output_type": "execute_result"
    }
   ],
   "source": [
    "baseline_model "
   ]
  },
  {
   "cell_type": "code",
   "execution_count": 59,
   "metadata": {},
   "outputs": [
    {
     "name": "stdout",
     "output_type": "stream",
     "text": [
      "Baseline Model:                                0.514\n",
      "CountVectorizer + LogisticRegression :         0.780\n",
      "TfidfVectorizer + LogisticRegression :         0.790\n",
      "CountVectorizer + Multinomial Naive Bayes:     0.759\n",
      "TfidfVectorizer + Gaussian Naive Bayes:        0.708\n"
     ]
    }
   ],
   "source": [
    "print(f'Baseline Model:                                0.514')\n",
    "print(f'CountVectorizer + LogisticRegression :         {results_cv.score(X_test, y_test):.3f}')\n",
    "print(f'TfidfVectorizer + LogisticRegression :         {results_tfidf.score(X_test, y_test):.3f}')\n",
    "print(f'CountVectorizer + Multinomial Naive Bayes:     {results_mnb.score(X_test, y_test):.3f}')\n",
    "print(f'TfidfVectorizer + Gaussian Naive Bayes:        {results_gnb.score(X_test, y_test):.3f}')"
   ]
  },
  {
   "cell_type": "markdown",
   "metadata": {},
   "source": [
    "## Model Evaluation "
   ]
  },
  {
   "cell_type": "markdown",
   "metadata": {},
   "source": [
    "My model's score coupled with my confusion matrix metric evaluation lead me to believe that my model is ready for testing. The fact that is around .30 better than the baseline model and is running at .80 it should be good to go! It can defintely get the job done I set out to accomplish. "
   ]
  },
  {
   "cell_type": "markdown",
   "metadata": {},
   "source": [
    "**Prepping Variables for graphing:**"
   ]
  },
  {
   "cell_type": "code",
   "execution_count": 60,
   "metadata": {},
   "outputs": [],
   "source": [
    "pred_proba = results_tfidf.predict_proba(X_test)\n",
    "pred = results_tfidf.predict(X_test) "
   ]
  },
  {
   "cell_type": "markdown",
   "metadata": {},
   "source": [
    "### Confusion Matrix for TfidfVectorizer & Logistic Regression:\n",
    "- Accuracy is defined as the percentage of correctly classifed instances. \n",
    "- Below I graphed the confusion matrix so that I could visualize and manually calculate my model's accuracy score. \n",
    "- For this run it calculated **544 True Negatives (r/micro)** and **628 True Positives (r/bio)** correctly out of **1,484 total predictions**.\n",
    "- **Which gives it an accuracy rate of .78.**"
   ]
  },
  {
   "cell_type": "code",
   "execution_count": 61,
   "metadata": {},
   "outputs": [],
   "source": [
    "#code adapted and modified from Mahdi's local lecture\n",
    "def even_prettier_confusion_matrix(y_true, y_pred):\n",
    "    # handling data\n",
    "    cm = confusion_matrix(y_true, y_pred)\n",
    "    labels = y_true.unique()\n",
    "    labels.sort()\n",
    "    linewidth=.23\n",
    "    \n",
    "    sns.set(font_scale=1.2)\n",
    "    plt.figure(figsize=(10,8))\n",
    "    \n",
    "    sns.heatmap(cm, annot=True, fmt='g', cmap=\"YlGnBu\",xticklabels=labels, yticklabels=labels)\n",
    "    plt.title(\"Confusion Matrix\")\n",
    "    plt.xlabel('Predicted Class')\n",
    "    plt.ylabel('True Class')\n",
    "    b, t = plt.ylim() # discover the values for bottom and top\n",
    "    b += 0.5 # Add 0.5 to the bottom\n",
    "    t -= 0.5 # Subtract 0.5 from the top\n",
    "    plt.ylim(b, t) # update the ylim(bottom, top) values"
   ]
  },
  {
   "cell_type": "code",
   "execution_count": 62,
   "metadata": {},
   "outputs": [
    {
     "data": {
      "image/png": "[encoded data removed]",
      "text/plain": [
       "<Figure size 720x576 with 2 Axes>"
      ]
     },
     "metadata": {
      "image/png": {
       "height": 503,
       "width": 580
      }
     },
     "output_type": "display_data"
    }
   ],
   "source": [
    "even_prettier_confusion_matrix(y_test, pred)"
   ]
  },
  {
   "cell_type": "code",
   "execution_count": 63,
   "metadata": {},
   "outputs": [
    {
     "name": "stdout",
     "output_type": "stream",
     "text": [
      "Accuracy Rate:  0.7897574123989218\n"
     ]
    }
   ],
   "source": [
    "TP = 628\n",
    "FP = 177\n",
    "FN = 135\n",
    "TN = 544\n",
    "total = (TP + FP + FN + TN)\n",
    "\n",
    "Acc = (TP + TN ) / total\n",
    "\n",
    "print(\"Accuracy Rate: \" , Acc)"
   ]
  },
  {
   "cell_type": "markdown",
   "metadata": {},
   "source": [
    "### ROC Curve for TfidfVectorizer & Logistic Regression:\n",
    "- The closer to one the ROC Curve is, the better the model is at differeniating bewteen the two classes.\n",
    "- My AUROC is preforming better than the baseline and my ROC curve  is closer to one so it safe to say this is a decent model."
   ]
  },
  {
   "cell_type": "code",
   "execution_count": 64,
   "metadata": {},
   "outputs": [
    {
     "data": {
      "text/plain": [
       "<matplotlib.legend.Legend at 0x1d36ab6b90>"
      ]
     },
     "execution_count": 64,
     "metadata": {},
     "output_type": "execute_result"
    },
    {
     "data": {
      "image/png": "[encoded data removed]",
      "text/plain": [
       "<Figure size 720x576 with 1 Axes>"
      ]
     },
     "metadata": {
      "image/png": {
       "height": 504,
       "width": 626
      }
     },
     "output_type": "display_data"
    }
   ],
   "source": [
    "#Freda Xin shared her modified code adapted from\n",
    "# Reference: https://scikit-learn.org/stable/modules/generated/sklearn.metrics.roc_curve.html#sklearn.metrics.roc_curve\n",
    "fpr, tpr, _= roc_curve(y_test, pred_proba[:,1])\n",
    "roc_auc = auc(fpr, tpr)\n",
    "\n",
    "plt.figure(figsize = (10,8))\n",
    "plt.plot(fpr, tpr, label='ROC curve (area = %0.4f)' % roc_auc)\n",
    "plt.plot([0, 1], [0, 1], 'k--', label='baseline')\n",
    "plt.xlim([-0.02, 1.0])\n",
    "plt.ylim([0.0, 1.02])\n",
    "plt.xlabel('False Positive Rate')\n",
    "plt.ylabel('True Positive Rate')\n",
    "plt.title('Receiver Operating Characteristic Curve', fontsize=15)\n",
    "plt.legend(loc=\"lower right\")"
   ]
  },
  {
   "cell_type": "markdown",
   "metadata": {},
   "source": [
    "**Utilizing the Model:**\n",
    "\n",
    "I put the model into use here to see how it runs and it predicted classes correctly both times.\n",
    "\n",
    "\n",
    "**Used in the first instance:**\n",
    "\n",
    "0 = r/Microbiology\n",
    "\n",
    "\n",
    "**Used in the second instance:**\n",
    "\n",
    "1 = r/ Biology  "
   ]
  },
  {
   "cell_type": "code",
   "execution_count": 65,
   "metadata": {},
   "outputs": [
    {
     "data": {
      "text/plain": [
       "array([0])"
      ]
     },
     "execution_count": 65,
     "metadata": {},
     "output_type": "execute_result"
    }
   ],
   "source": [
    "results_tfidf.predict(['I would like to know what the swimming organisms are. 400x magnification'])"
   ]
  },
  {
   "cell_type": "code",
   "execution_count": 66,
   "metadata": {},
   "outputs": [
    {
     "data": {
      "text/plain": [
       "array([1])"
      ]
     },
     "execution_count": 66,
     "metadata": {},
     "output_type": "execute_result"
    }
   ],
   "source": [
    "results_tfidf.predict(['Study suggests Parkinsons present from birth and may be preventable'])"
   ]
  },
  {
   "cell_type": "markdown",
   "metadata": {},
   "source": [
    "** post references in the reference section below."
   ]
  },
  {
   "cell_type": "markdown",
   "metadata": {},
   "source": [
    "## Conclusion\n",
    "\n",
    "The selected TfidfVectorizer & Logistic Regression model has an accuracy rate of .80. This is good enough to help solve my problem of subreddit differeniation. I do not need a super accurate model and since I am in a time crunch this should suffice. I just need something good enough to get the job done. I can optimize my model more in my spare time."
   ]
  },
  {
   "cell_type": "markdown",
   "metadata": {},
   "source": [
    "## Recommendations\n",
    "\n",
    "\n",
    "Now that I have a model ready to be put into action, the next step would be to build a function that would  automate the following. Scrape the posts from the combined subreddits, pass them into my predictive model, then separate them into two data frames based on their respective classes. I would give then the data to reddit so that they could put the posts back where they belong\n",
    "\n",
    "My model can be improved by the implementing the following. I would not have dropped several the columns before filtering for removed or deleted rows. I ended up deleting posts that could have upped my score because they may have had applicable data in them. I could have also tried to pull out some of the common stop words to see how that would have affected my model.I would also use regex, stemming and lemmatizing to see which one worked better also do some feature engineering. Lastly I could try out more models to see if I could get a better score."
   ]
  },
  {
   "cell_type": "markdown",
   "metadata": {},
   "source": [
    "## References"
   ]
  },
  {
   "cell_type": "markdown",
   "metadata": {},
   "source": [
    "[r/ Biology post utilized in my predictive model](https://www.reddit.com/r/science/comments/ev41ym/study_suggests_parkinsons_present_from_birth_and/)\n",
    "\n",
    "\n",
    "[r/ Microbiology post utilized in my predictive model](https://www.reddit.com/r/microbiology/comments/ew8n4g/i_would_like_to_know_what_the_swimming_organisms/)\n",
    "    \n",
    "        "
   ]
  }
 ],
 "metadata": {
  "kernelspec": {
   "display_name": "Python 3",
   "language": "python",
   "name": "python3"
  },
  "language_info": {
   "codemirror_mode": {
    "name": "ipython",
    "version": 3
   },
   "file_extension": ".py",
   "mimetype": "text/x-python",
   "name": "python",
   "nbconvert_exporter": "python",
   "pygments_lexer": "ipython3",
   "version": "3.7.4"
  },
  "toc": {
   "base_numbering": 1,
   "nav_menu": {},
   "number_sections": true,
   "sideBar": true,
   "skip_h1_title": false,
   "title_cell": "Table of Contents",
   "title_sidebar": "Contents",
   "toc_cell": true,
   "toc_position": {
    "height": "526px",
    "left": "31px",
    "top": "110px",
    "width": "277.188px"
   },
   "toc_section_display": true,
   "toc_window_display": true
  }
 },
 "nbformat": 4,
 "nbformat_minor": 2
}
